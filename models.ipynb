{
 "cells": [
  {
   "cell_type": "code",
   "execution_count": 37,
   "metadata": {},
   "outputs": [],
   "source": [
    "import pandas as pd\n",
    "import numpy as np\n",
    "import matplotlib.pyplot as plt\n",
    "import seaborn as sns\n",
    "from sklearn.model_selection import train_test_split"
   ]
  },
  {
   "cell_type": "code",
   "execution_count": 38,
   "metadata": {},
   "outputs": [],
   "source": [
    "#df = pd.read_csv(\"train_processed.csv\")\n",
    "df2 = pd.read_csv(\"train_processed_encoded_balanced.csv\")"
   ]
  },
  {
   "cell_type": "code",
   "execution_count": 39,
   "metadata": {},
   "outputs": [
    {
     "data": {
      "text/html": [
       "<div>\n",
       "<style scoped>\n",
       "    .dataframe tbody tr th:only-of-type {\n",
       "        vertical-align: middle;\n",
       "    }\n",
       "\n",
       "    .dataframe tbody tr th {\n",
       "        vertical-align: top;\n",
       "    }\n",
       "\n",
       "    .dataframe thead th {\n",
       "        text-align: right;\n",
       "    }\n",
       "</style>\n",
       "<table border=\"1\" class=\"dataframe\">\n",
       "  <thead>\n",
       "    <tr style=\"text-align: right;\">\n",
       "      <th></th>\n",
       "      <th>Unnamed: 0</th>\n",
       "      <th>Patient Age</th>\n",
       "      <th>Genes in mother's side</th>\n",
       "      <th>Inherited from father</th>\n",
       "      <th>Maternal gene</th>\n",
       "      <th>Paternal gene</th>\n",
       "      <th>Blood cell count (mcL)</th>\n",
       "      <th>Mother's age</th>\n",
       "      <th>Father's age</th>\n",
       "      <th>Status</th>\n",
       "      <th>...</th>\n",
       "      <th>Birth defects</th>\n",
       "      <th>White Blood cell count (thousand per microliter)</th>\n",
       "      <th>Blood test result</th>\n",
       "      <th>Symptom 1</th>\n",
       "      <th>Symptom 2</th>\n",
       "      <th>Symptom 3</th>\n",
       "      <th>Symptom 4</th>\n",
       "      <th>Symptom 5</th>\n",
       "      <th>Genetic Disorder</th>\n",
       "      <th>Disorder Subclass</th>\n",
       "    </tr>\n",
       "  </thead>\n",
       "  <tbody>\n",
       "    <tr>\n",
       "      <th>0</th>\n",
       "      <td>0</td>\n",
       "      <td>2.0</td>\n",
       "      <td>Yes</td>\n",
       "      <td>No</td>\n",
       "      <td>Yes</td>\n",
       "      <td>No</td>\n",
       "      <td>4.760603</td>\n",
       "      <td>23.0</td>\n",
       "      <td>20.0</td>\n",
       "      <td>Alive</td>\n",
       "      <td>...</td>\n",
       "      <td>Singular</td>\n",
       "      <td>9.857562</td>\n",
       "      <td>slightly abnormal</td>\n",
       "      <td>1.0</td>\n",
       "      <td>1.0</td>\n",
       "      <td>1.0</td>\n",
       "      <td>1.0</td>\n",
       "      <td>1.0</td>\n",
       "      <td>Mitochondrial genetic inheritance disorders</td>\n",
       "      <td>Leber's hereditary optic neuropathy</td>\n",
       "    </tr>\n",
       "    <tr>\n",
       "      <th>1</th>\n",
       "      <td>1</td>\n",
       "      <td>4.0</td>\n",
       "      <td>Yes</td>\n",
       "      <td>Yes</td>\n",
       "      <td>No</td>\n",
       "      <td>No</td>\n",
       "      <td>4.910669</td>\n",
       "      <td>23.0</td>\n",
       "      <td>23.0</td>\n",
       "      <td>Deceased</td>\n",
       "      <td>...</td>\n",
       "      <td>Multiple</td>\n",
       "      <td>5.522560</td>\n",
       "      <td>normal</td>\n",
       "      <td>1.0</td>\n",
       "      <td>1.0</td>\n",
       "      <td>1.0</td>\n",
       "      <td>1.0</td>\n",
       "      <td>0.0</td>\n",
       "      <td>Mitochondrial genetic inheritance disorders</td>\n",
       "      <td>Cystic fibrosis</td>\n",
       "    </tr>\n",
       "    <tr>\n",
       "      <th>2</th>\n",
       "      <td>2</td>\n",
       "      <td>6.0</td>\n",
       "      <td>Yes</td>\n",
       "      <td>No</td>\n",
       "      <td>No</td>\n",
       "      <td>No</td>\n",
       "      <td>4.893297</td>\n",
       "      <td>41.0</td>\n",
       "      <td>22.0</td>\n",
       "      <td>Alive</td>\n",
       "      <td>...</td>\n",
       "      <td>Singular</td>\n",
       "      <td>7.477132</td>\n",
       "      <td>normal</td>\n",
       "      <td>0.0</td>\n",
       "      <td>1.0</td>\n",
       "      <td>1.0</td>\n",
       "      <td>1.0</td>\n",
       "      <td>1.0</td>\n",
       "      <td>Multifactorial genetic inheritance disorders</td>\n",
       "      <td>Diabetes</td>\n",
       "    </tr>\n",
       "    <tr>\n",
       "      <th>3</th>\n",
       "      <td>3</td>\n",
       "      <td>12.0</td>\n",
       "      <td>Yes</td>\n",
       "      <td>No</td>\n",
       "      <td>Yes</td>\n",
       "      <td>No</td>\n",
       "      <td>4.705280</td>\n",
       "      <td>21.0</td>\n",
       "      <td>20.0</td>\n",
       "      <td>Deceased</td>\n",
       "      <td>...</td>\n",
       "      <td>Singular</td>\n",
       "      <td>7.919321</td>\n",
       "      <td>inconclusive</td>\n",
       "      <td>0.0</td>\n",
       "      <td>0.0</td>\n",
       "      <td>1.0</td>\n",
       "      <td>0.0</td>\n",
       "      <td>0.0</td>\n",
       "      <td>Mitochondrial genetic inheritance disorders</td>\n",
       "      <td>Leigh syndrome</td>\n",
       "    </tr>\n",
       "    <tr>\n",
       "      <th>4</th>\n",
       "      <td>4</td>\n",
       "      <td>11.0</td>\n",
       "      <td>Yes</td>\n",
       "      <td>No</td>\n",
       "      <td>Yes</td>\n",
       "      <td>Yes</td>\n",
       "      <td>4.720703</td>\n",
       "      <td>32.0</td>\n",
       "      <td>20.0</td>\n",
       "      <td>Alive</td>\n",
       "      <td>...</td>\n",
       "      <td>Multiple</td>\n",
       "      <td>4.098210</td>\n",
       "      <td>slightly abnormal</td>\n",
       "      <td>0.0</td>\n",
       "      <td>0.0</td>\n",
       "      <td>0.0</td>\n",
       "      <td>0.0</td>\n",
       "      <td>0.0</td>\n",
       "      <td>Multifactorial genetic inheritance disorders</td>\n",
       "      <td>Cancer</td>\n",
       "    </tr>\n",
       "  </tbody>\n",
       "</table>\n",
       "<p>5 rows × 31 columns</p>\n",
       "</div>"
      ],
      "text/plain": [
       "   Unnamed: 0  Patient Age Genes in mother's side Inherited from father  \\\n",
       "0           0          2.0                    Yes                    No   \n",
       "1           1          4.0                    Yes                   Yes   \n",
       "2           2          6.0                    Yes                    No   \n",
       "3           3         12.0                    Yes                    No   \n",
       "4           4         11.0                    Yes                    No   \n",
       "\n",
       "  Maternal gene Paternal gene  Blood cell count (mcL)  Mother's age  \\\n",
       "0           Yes            No                4.760603          23.0   \n",
       "1            No            No                4.910669          23.0   \n",
       "2            No            No                4.893297          41.0   \n",
       "3           Yes            No                4.705280          21.0   \n",
       "4           Yes           Yes                4.720703          32.0   \n",
       "\n",
       "   Father's age    Status  ... Birth defects  \\\n",
       "0          20.0     Alive  ...      Singular   \n",
       "1          23.0  Deceased  ...      Multiple   \n",
       "2          22.0     Alive  ...      Singular   \n",
       "3          20.0  Deceased  ...      Singular   \n",
       "4          20.0     Alive  ...      Multiple   \n",
       "\n",
       "  White Blood cell count (thousand per microliter)  Blood test result  \\\n",
       "0                                         9.857562  slightly abnormal   \n",
       "1                                         5.522560             normal   \n",
       "2                                         7.477132             normal   \n",
       "3                                         7.919321       inconclusive   \n",
       "4                                         4.098210  slightly abnormal   \n",
       "\n",
       "  Symptom 1 Symptom 2 Symptom 3 Symptom 4 Symptom 5  \\\n",
       "0       1.0       1.0       1.0       1.0       1.0   \n",
       "1       1.0       1.0       1.0       1.0       0.0   \n",
       "2       0.0       1.0       1.0       1.0       1.0   \n",
       "3       0.0       0.0       1.0       0.0       0.0   \n",
       "4       0.0       0.0       0.0       0.0       0.0   \n",
       "\n",
       "                               Genetic Disorder  \\\n",
       "0   Mitochondrial genetic inheritance disorders   \n",
       "1   Mitochondrial genetic inheritance disorders   \n",
       "2  Multifactorial genetic inheritance disorders   \n",
       "3   Mitochondrial genetic inheritance disorders   \n",
       "4  Multifactorial genetic inheritance disorders   \n",
       "\n",
       "                     Disorder Subclass  \n",
       "0  Leber's hereditary optic neuropathy  \n",
       "1                      Cystic fibrosis  \n",
       "2                             Diabetes  \n",
       "3                       Leigh syndrome  \n",
       "4                               Cancer  \n",
       "\n",
       "[5 rows x 31 columns]"
      ]
     },
     "execution_count": 39,
     "metadata": {},
     "output_type": "execute_result"
    }
   ],
   "source": [
    "df.head()"
   ]
  },
  {
   "cell_type": "code",
   "execution_count": 40,
   "metadata": {},
   "outputs": [
    {
     "data": {
      "text/html": [
       "<div>\n",
       "<style scoped>\n",
       "    .dataframe tbody tr th:only-of-type {\n",
       "        vertical-align: middle;\n",
       "    }\n",
       "\n",
       "    .dataframe tbody tr th {\n",
       "        vertical-align: top;\n",
       "    }\n",
       "\n",
       "    .dataframe thead th {\n",
       "        text-align: right;\n",
       "    }\n",
       "</style>\n",
       "<table border=\"1\" class=\"dataframe\">\n",
       "  <thead>\n",
       "    <tr style=\"text-align: right;\">\n",
       "      <th></th>\n",
       "      <th>Unnamed: 0</th>\n",
       "      <th>Patient Age</th>\n",
       "      <th>Genes in mother's side</th>\n",
       "      <th>Inherited from father</th>\n",
       "      <th>Maternal gene</th>\n",
       "      <th>Paternal gene</th>\n",
       "      <th>Blood cell count (mcL)</th>\n",
       "      <th>Mother's age</th>\n",
       "      <th>Father's age</th>\n",
       "      <th>Status</th>\n",
       "      <th>...</th>\n",
       "      <th>Birth defects</th>\n",
       "      <th>White Blood cell count (thousand per microliter)</th>\n",
       "      <th>Blood test result</th>\n",
       "      <th>Symptom 1</th>\n",
       "      <th>Symptom 2</th>\n",
       "      <th>Symptom 3</th>\n",
       "      <th>Symptom 4</th>\n",
       "      <th>Symptom 5</th>\n",
       "      <th>Genetic Disorder</th>\n",
       "      <th>Disorder Subclass</th>\n",
       "    </tr>\n",
       "  </thead>\n",
       "  <tbody>\n",
       "    <tr>\n",
       "      <th>0</th>\n",
       "      <td>1</td>\n",
       "      <td>4.0</td>\n",
       "      <td>1.0</td>\n",
       "      <td>1.0</td>\n",
       "      <td>0.0</td>\n",
       "      <td>0.0</td>\n",
       "      <td>4.910669</td>\n",
       "      <td>5.0</td>\n",
       "      <td>23.0</td>\n",
       "      <td>1.0</td>\n",
       "      <td>...</td>\n",
       "      <td>0.0</td>\n",
       "      <td>5.522560</td>\n",
       "      <td>2.0</td>\n",
       "      <td>1.0</td>\n",
       "      <td>1.0</td>\n",
       "      <td>1.0</td>\n",
       "      <td>1.0</td>\n",
       "      <td>0.0</td>\n",
       "      <td>Mitochondrial genetic inheritance disorders</td>\n",
       "      <td>Cystic fibrosis</td>\n",
       "    </tr>\n",
       "    <tr>\n",
       "      <th>1</th>\n",
       "      <td>2</td>\n",
       "      <td>6.0</td>\n",
       "      <td>1.0</td>\n",
       "      <td>0.0</td>\n",
       "      <td>0.0</td>\n",
       "      <td>0.0</td>\n",
       "      <td>4.893297</td>\n",
       "      <td>23.0</td>\n",
       "      <td>22.0</td>\n",
       "      <td>0.0</td>\n",
       "      <td>...</td>\n",
       "      <td>1.0</td>\n",
       "      <td>7.477132</td>\n",
       "      <td>2.0</td>\n",
       "      <td>0.0</td>\n",
       "      <td>1.0</td>\n",
       "      <td>1.0</td>\n",
       "      <td>1.0</td>\n",
       "      <td>1.0</td>\n",
       "      <td>Multifactorial genetic inheritance disorders</td>\n",
       "      <td>Diabetes</td>\n",
       "    </tr>\n",
       "    <tr>\n",
       "      <th>2</th>\n",
       "      <td>3</td>\n",
       "      <td>12.0</td>\n",
       "      <td>1.0</td>\n",
       "      <td>0.0</td>\n",
       "      <td>1.0</td>\n",
       "      <td>0.0</td>\n",
       "      <td>4.705280</td>\n",
       "      <td>3.0</td>\n",
       "      <td>20.0</td>\n",
       "      <td>1.0</td>\n",
       "      <td>...</td>\n",
       "      <td>1.0</td>\n",
       "      <td>7.919321</td>\n",
       "      <td>1.0</td>\n",
       "      <td>0.0</td>\n",
       "      <td>0.0</td>\n",
       "      <td>1.0</td>\n",
       "      <td>0.0</td>\n",
       "      <td>0.0</td>\n",
       "      <td>Mitochondrial genetic inheritance disorders</td>\n",
       "      <td>Leigh syndrome</td>\n",
       "    </tr>\n",
       "    <tr>\n",
       "      <th>3</th>\n",
       "      <td>5</td>\n",
       "      <td>14.0</td>\n",
       "      <td>1.0</td>\n",
       "      <td>0.0</td>\n",
       "      <td>1.0</td>\n",
       "      <td>0.0</td>\n",
       "      <td>5.103188</td>\n",
       "      <td>5.0</td>\n",
       "      <td>20.0</td>\n",
       "      <td>1.0</td>\n",
       "      <td>...</td>\n",
       "      <td>0.0</td>\n",
       "      <td>10.272230</td>\n",
       "      <td>2.0</td>\n",
       "      <td>1.0</td>\n",
       "      <td>0.0</td>\n",
       "      <td>0.0</td>\n",
       "      <td>1.0</td>\n",
       "      <td>0.0</td>\n",
       "      <td>Single-gene inheritance diseases</td>\n",
       "      <td>Cystic fibrosis</td>\n",
       "    </tr>\n",
       "    <tr>\n",
       "      <th>4</th>\n",
       "      <td>6</td>\n",
       "      <td>3.0</td>\n",
       "      <td>1.0</td>\n",
       "      <td>0.0</td>\n",
       "      <td>1.0</td>\n",
       "      <td>1.0</td>\n",
       "      <td>4.901080</td>\n",
       "      <td>5.0</td>\n",
       "      <td>63.0</td>\n",
       "      <td>0.0</td>\n",
       "      <td>...</td>\n",
       "      <td>0.0</td>\n",
       "      <td>6.825974</td>\n",
       "      <td>2.0</td>\n",
       "      <td>0.0</td>\n",
       "      <td>0.0</td>\n",
       "      <td>0.0</td>\n",
       "      <td>0.0</td>\n",
       "      <td>0.0</td>\n",
       "      <td>Single-gene inheritance diseases</td>\n",
       "      <td>Tay-Sachs</td>\n",
       "    </tr>\n",
       "  </tbody>\n",
       "</table>\n",
       "<p>5 rows × 31 columns</p>\n",
       "</div>"
      ],
      "text/plain": [
       "   Unnamed: 0  Patient Age  Genes in mother's side  Inherited from father  \\\n",
       "0           1          4.0                     1.0                    1.0   \n",
       "1           2          6.0                     1.0                    0.0   \n",
       "2           3         12.0                     1.0                    0.0   \n",
       "3           5         14.0                     1.0                    0.0   \n",
       "4           6          3.0                     1.0                    0.0   \n",
       "\n",
       "   Maternal gene  Paternal gene  Blood cell count (mcL)  Mother's age  \\\n",
       "0            0.0            0.0                4.910669           5.0   \n",
       "1            0.0            0.0                4.893297          23.0   \n",
       "2            1.0            0.0                4.705280           3.0   \n",
       "3            1.0            0.0                5.103188           5.0   \n",
       "4            1.0            1.0                4.901080           5.0   \n",
       "\n",
       "   Father's age  Status  ...  Birth defects  \\\n",
       "0          23.0     1.0  ...            0.0   \n",
       "1          22.0     0.0  ...            1.0   \n",
       "2          20.0     1.0  ...            1.0   \n",
       "3          20.0     1.0  ...            0.0   \n",
       "4          63.0     0.0  ...            0.0   \n",
       "\n",
       "   White Blood cell count (thousand per microliter)  Blood test result  \\\n",
       "0                                          5.522560                2.0   \n",
       "1                                          7.477132                2.0   \n",
       "2                                          7.919321                1.0   \n",
       "3                                         10.272230                2.0   \n",
       "4                                          6.825974                2.0   \n",
       "\n",
       "   Symptom 1  Symptom 2  Symptom 3  Symptom 4  Symptom 5  \\\n",
       "0        1.0        1.0        1.0        1.0        0.0   \n",
       "1        0.0        1.0        1.0        1.0        1.0   \n",
       "2        0.0        0.0        1.0        0.0        0.0   \n",
       "3        1.0        0.0        0.0        1.0        0.0   \n",
       "4        0.0        0.0        0.0        0.0        0.0   \n",
       "\n",
       "                               Genetic Disorder  Disorder Subclass  \n",
       "0   Mitochondrial genetic inheritance disorders    Cystic fibrosis  \n",
       "1  Multifactorial genetic inheritance disorders           Diabetes  \n",
       "2   Mitochondrial genetic inheritance disorders     Leigh syndrome  \n",
       "3              Single-gene inheritance diseases    Cystic fibrosis  \n",
       "4              Single-gene inheritance diseases          Tay-Sachs  \n",
       "\n",
       "[5 rows x 31 columns]"
      ]
     },
     "execution_count": 40,
     "metadata": {},
     "output_type": "execute_result"
    }
   ],
   "source": [
    "df2.head()"
   ]
  },
  {
   "cell_type": "code",
   "execution_count": 47,
   "metadata": {},
   "outputs": [],
   "source": [
    "df = df.iloc[: , 1:]"
   ]
  },
  {
   "cell_type": "code",
   "execution_count": 48,
   "metadata": {},
   "outputs": [],
   "source": [
    "df2 = df2.iloc[: , 1:]"
   ]
  },
  {
   "cell_type": "code",
   "execution_count": 49,
   "metadata": {},
   "outputs": [],
   "source": [
    "df2['Disorder+Subclass'] = df2['Genetic Disorder'] + ' - ' + df2['Disorder Subclass']\n",
    "df_train = df2.drop([\"Genetic Disorder\", \"Disorder Subclass\", \"Disorder+Subclass\"], axis=1)\n",
    "df_test_Disorder = df2[\"Genetic Disorder\"]\n",
    "df_test_Subclass = df2[\"Disorder Subclass\"]\n",
    "df_test_Disorder_Subclass = df2[\"Disorder+Subclass\"]\n"
   ]
  },
  {
   "cell_type": "code",
   "execution_count": 50,
   "metadata": {},
   "outputs": [],
   "source": [
    "from sklearn.preprocessing import StandardScaler\n",
    "scaler = StandardScaler()\n",
    "df_train_encoded = pd.DataFrame(scaler.fit_transform(df_train))"
   ]
  },
  {
   "cell_type": "code",
   "execution_count": 51,
   "metadata": {},
   "outputs": [],
   "source": [
    "from sklearn.metrics import confusion_matrix, accuracy_score, precision_score, recall_score, classification_report\n",
    "\n",
    "def compute_metrics(actual, predicted):\n",
    "    #tn, fp, fn, tp = confusion_matrix(actual, predicted).ravel()\n",
    "    print(confusion_matrix(actual, predicted))\n",
    "    print(\"Accuracy: \" + str(accuracy_score(actual, predicted)))\n",
    "    print(classification_report(actual, predicted, zero_division=0))"
   ]
  },
  {
   "cell_type": "code",
   "execution_count": 52,
   "metadata": {},
   "outputs": [],
   "source": [
    "X_train1, X_test1, y_train1, y_test1 = train_test_split(df_train_encoded, df_test_Disorder, test_size=0.30, random_state=42)\n",
    "X_train2, X_test2, y_train2, y_test2 = train_test_split(df_train_encoded, df_test_Subclass, test_size=0.30, random_state=42)\n",
    "X_train3, X_test3, y_train3, y_test3 = train_test_split(df_train_encoded, df_test_Disorder_Subclass, test_size=0.30, random_state=42)"
   ]
  },
  {
   "cell_type": "markdown",
   "metadata": {},
   "source": [
    "## Predicting Genetic Disorder"
   ]
  },
  {
   "cell_type": "code",
   "execution_count": 53,
   "metadata": {},
   "outputs": [
    {
     "name": "stdout",
     "output_type": "stream",
     "text": [
      "[[3434   61    1]\n",
      " [ 369  188    0]\n",
      " [2157  143    3]]\n",
      "Accuracy: 0.5703272498426684\n",
      "                                              precision    recall  f1-score   support\n",
      "\n",
      " Mitochondrial genetic inheritance disorders       0.58      0.98      0.73      3496\n",
      "Multifactorial genetic inheritance disorders       0.48      0.34      0.40       557\n",
      "            Single-gene inheritance diseases       0.75      0.00      0.00      2303\n",
      "\n",
      "                                    accuracy                           0.57      6356\n",
      "                                   macro avg       0.60      0.44      0.38      6356\n",
      "                                weighted avg       0.63      0.57      0.44      6356\n",
      "\n"
     ]
    }
   ],
   "source": [
    "from sklearn.linear_model import LogisticRegression\n",
    "\n",
    "logRegression = LogisticRegression()\n",
    "logRegression.fit(X_train1, y_train1)\n",
    "compute_metrics(y_test1, logRegression.predict(X_test1))"
   ]
  },
  {
   "cell_type": "code",
   "execution_count": 54,
   "metadata": {},
   "outputs": [
    {
     "name": "stdout",
     "output_type": "stream",
     "text": [
      "[[2129  204 1163]\n",
      " [ 184  172  201]\n",
      " [1093  215  995]]\n",
      "Accuracy: 0.5185651353052234\n",
      "                                              precision    recall  f1-score   support\n",
      "\n",
      " Mitochondrial genetic inheritance disorders       0.63      0.61      0.62      3496\n",
      "Multifactorial genetic inheritance disorders       0.29      0.31      0.30       557\n",
      "            Single-gene inheritance diseases       0.42      0.43      0.43      2303\n",
      "\n",
      "                                    accuracy                           0.52      6356\n",
      "                                   macro avg       0.45      0.45      0.45      6356\n",
      "                                weighted avg       0.52      0.52      0.52      6356\n",
      "\n"
     ]
    }
   ],
   "source": [
    "from sklearn.tree import DecisionTreeClassifier\n",
    "\n",
    "decisionTree = DecisionTreeClassifier()\n",
    "decisionTree.fit(X_train1, y_train1)\n",
    "compute_metrics(y_test1, decisionTree.predict(X_test1))"
   ]
  },
  {
   "cell_type": "code",
   "execution_count": 55,
   "metadata": {},
   "outputs": [
    {
     "name": "stdout",
     "output_type": "stream",
     "text": [
      "[[3125   34  337]\n",
      " [ 246  121  190]\n",
      " [1605   79  619]]\n",
      "Accuracy: 0.6080868470736313\n",
      "                                              precision    recall  f1-score   support\n",
      "\n",
      " Mitochondrial genetic inheritance disorders       0.63      0.89      0.74      3496\n",
      "Multifactorial genetic inheritance disorders       0.52      0.22      0.31       557\n",
      "            Single-gene inheritance diseases       0.54      0.27      0.36      2303\n",
      "\n",
      "                                    accuracy                           0.61      6356\n",
      "                                   macro avg       0.56      0.46      0.47      6356\n",
      "                                weighted avg       0.59      0.61      0.56      6356\n",
      "\n"
     ]
    }
   ],
   "source": [
    "from sklearn.ensemble import RandomForestClassifier\n",
    "\n",
    "randomForest = RandomForestClassifier()\n",
    "randomForest.fit(X_train1, y_train1)\n",
    "compute_metrics(y_test1, randomForest.predict(X_test1))"
   ]
  },
  {
   "cell_type": "code",
   "execution_count": 56,
   "metadata": {},
   "outputs": [
    {
     "name": "stdout",
     "output_type": "stream",
     "text": [
      "[[2641   77  778]\n",
      " [ 155  176  226]\n",
      " [1197  176  930]]\n",
      "Accuracy: 0.5895217117684078\n",
      "                                              precision    recall  f1-score   support\n",
      "\n",
      " Mitochondrial genetic inheritance disorders       0.66      0.76      0.71      3496\n",
      "Multifactorial genetic inheritance disorders       0.41      0.32      0.36       557\n",
      "            Single-gene inheritance diseases       0.48      0.40      0.44      2303\n",
      "\n",
      "                                    accuracy                           0.59      6356\n",
      "                                   macro avg       0.52      0.49      0.50      6356\n",
      "                                weighted avg       0.57      0.59      0.58      6356\n",
      "\n"
     ]
    },
    {
     "name": "stderr",
     "output_type": "stream",
     "text": [
      "/Users/lucasmarch/opt/anaconda3/lib/python3.8/site-packages/sklearn/neural_network/_multilayer_perceptron.py:676: ConvergenceWarning: Stochastic Optimizer: Maximum iterations (200) reached and the optimization hasn't converged yet.\n",
      "  warnings.warn(\n"
     ]
    }
   ],
   "source": [
    "from sklearn.neural_network import MLPClassifier\n",
    "clf = MLPClassifier()\n",
    "clf.fit(X_train1, y_train1)\n",
    "compute_metrics(y_test1, clf.predict(X_test1))"
   ]
  },
  {
   "cell_type": "code",
   "execution_count": 57,
   "metadata": {},
   "outputs": [
    {
     "name": "stdout",
     "output_type": "stream",
     "text": [
      "[[3181   35  280]\n",
      " [ 234  122  201]\n",
      " [1615   74  614]]\n",
      "Accuracy: 0.6162680931403398\n",
      "                                              precision    recall  f1-score   support\n",
      "\n",
      " Mitochondrial genetic inheritance disorders       0.63      0.91      0.75      3496\n",
      "Multifactorial genetic inheritance disorders       0.53      0.22      0.31       557\n",
      "            Single-gene inheritance diseases       0.56      0.27      0.36      2303\n",
      "\n",
      "                                    accuracy                           0.62      6356\n",
      "                                   macro avg       0.57      0.47      0.47      6356\n",
      "                                weighted avg       0.60      0.62      0.57      6356\n",
      "\n"
     ]
    }
   ],
   "source": [
    "from sklearn.svm import SVC\n",
    "\n",
    "svc = SVC()\n",
    "svc.fit(X_train1, y_train1)\n",
    "compute_metrics(y_test1, svc.predict(X_test1))"
   ]
  },
  {
   "cell_type": "markdown",
   "metadata": {},
   "source": [
    "## Predicting Subclass"
   ]
  },
  {
   "cell_type": "code",
   "execution_count": 58,
   "metadata": {},
   "outputs": [
    {
     "name": "stdout",
     "output_type": "stream",
     "text": [
      "[[ 463   78    0  482    4    2]\n",
      " [ 305  127    0  123    2    2]\n",
      " [   0    0   92   65   69  194]\n",
      " [ 202   40   29 1577  161  140]\n",
      " [  28    1   34  858  229  174]\n",
      " [   1    0   62  352  169  291]]\n",
      "Accuracy: 0.43722466960352424\n",
      "                        precision    recall  f1-score   support\n",
      "\n",
      "       Cystic fibrosis       0.46      0.45      0.46      1029\n",
      "              Diabetes       0.52      0.23      0.32       559\n",
      "       Hemochromatosis       0.42      0.22      0.29       420\n",
      "        Leigh syndrome       0.46      0.73      0.56      2149\n",
      "Mitochondrial myopathy       0.36      0.17      0.23      1324\n",
      "             Tay-Sachs       0.36      0.33      0.35       875\n",
      "\n",
      "              accuracy                           0.44      6356\n",
      "             macro avg       0.43      0.36      0.37      6356\n",
      "          weighted avg       0.43      0.44      0.41      6356\n",
      "\n"
     ]
    }
   ],
   "source": [
    "logRegression = LogisticRegression()\n",
    "logRegression.fit(X_train2, y_train2)\n",
    "compute_metrics(y_test2, logRegression.predict(X_test2))"
   ]
  },
  {
   "cell_type": "code",
   "execution_count": 59,
   "metadata": {},
   "outputs": [
    {
     "name": "stdout",
     "output_type": "stream",
     "text": [
      "[[332 222   9 323 108  35]\n",
      " [197 158   2 157  33  12]\n",
      " [  9   1  84  99 108 119]\n",
      " [339 166 101 813 481 249]\n",
      " [115  43 102 455 356 253]\n",
      " [ 30   6 127 270 231 211]]\n",
      "Accuracy: 0.30742605412208934\n",
      "                        precision    recall  f1-score   support\n",
      "\n",
      "       Cystic fibrosis       0.32      0.32      0.32      1029\n",
      "              Diabetes       0.27      0.28      0.27       559\n",
      "       Hemochromatosis       0.20      0.20      0.20       420\n",
      "        Leigh syndrome       0.38      0.38      0.38      2149\n",
      "Mitochondrial myopathy       0.27      0.27      0.27      1324\n",
      "             Tay-Sachs       0.24      0.24      0.24       875\n",
      "\n",
      "              accuracy                           0.31      6356\n",
      "             macro avg       0.28      0.28      0.28      6356\n",
      "          weighted avg       0.31      0.31      0.31      6356\n",
      "\n"
     ]
    }
   ],
   "source": [
    "decisionTree = DecisionTreeClassifier()\n",
    "decisionTree.fit(X_train2, y_train2)\n",
    "compute_metrics(y_test2, decisionTree.predict(X_test2))"
   ]
  },
  {
   "cell_type": "code",
   "execution_count": 60,
   "metadata": {},
   "outputs": [
    {
     "name": "stdout",
     "output_type": "stream",
     "text": [
      "[[ 387   80    0  539   21    2]\n",
      " [ 256  123    0  174    5    1]\n",
      " [   0    0   75  131   98  116]\n",
      " [ 220   31   14 1541  255   88]\n",
      " [  30    3   26  888  265  112]\n",
      " [   4    0   55  455  219  142]]\n",
      "Accuracy: 0.3985210824417873\n",
      "                        precision    recall  f1-score   support\n",
      "\n",
      "       Cystic fibrosis       0.43      0.38      0.40      1029\n",
      "              Diabetes       0.52      0.22      0.31       559\n",
      "       Hemochromatosis       0.44      0.18      0.25       420\n",
      "        Leigh syndrome       0.41      0.72      0.52      2149\n",
      "Mitochondrial myopathy       0.31      0.20      0.24      1324\n",
      "             Tay-Sachs       0.31      0.16      0.21       875\n",
      "\n",
      "              accuracy                           0.40      6356\n",
      "             macro avg       0.40      0.31      0.32      6356\n",
      "          weighted avg       0.39      0.40      0.37      6356\n",
      "\n"
     ]
    }
   ],
   "source": [
    "randomForest = RandomForestClassifier()\n",
    "randomForest.fit(X_train2, y_train2)\n",
    "compute_metrics(y_test2, randomForest.predict(X_test2))"
   ]
  },
  {
   "cell_type": "code",
   "execution_count": 61,
   "metadata": {},
   "outputs": [
    {
     "name": "stdout",
     "output_type": "stream",
     "text": [
      "[[ 400  150    1  420   55    3]\n",
      " [ 265  151    1  132    8    2]\n",
      " [   0    0  110   52   93  165]\n",
      " [ 284   66   62 1073  480  184]\n",
      " [  54    8   65  592  368  237]\n",
      " [  10    0  118  238  249  260]]\n",
      "Accuracy: 0.37161736941472623\n",
      "                        precision    recall  f1-score   support\n",
      "\n",
      "       Cystic fibrosis       0.39      0.39      0.39      1029\n",
      "              Diabetes       0.40      0.27      0.32       559\n",
      "       Hemochromatosis       0.31      0.26      0.28       420\n",
      "        Leigh syndrome       0.43      0.50      0.46      2149\n",
      "Mitochondrial myopathy       0.29      0.28      0.29      1324\n",
      "             Tay-Sachs       0.31      0.30      0.30       875\n",
      "\n",
      "              accuracy                           0.37      6356\n",
      "             macro avg       0.36      0.33      0.34      6356\n",
      "          weighted avg       0.37      0.37      0.37      6356\n",
      "\n"
     ]
    },
    {
     "name": "stderr",
     "output_type": "stream",
     "text": [
      "/Users/lucasmarch/opt/anaconda3/lib/python3.8/site-packages/sklearn/neural_network/_multilayer_perceptron.py:676: ConvergenceWarning: Stochastic Optimizer: Maximum iterations (200) reached and the optimization hasn't converged yet.\n",
      "  warnings.warn(\n"
     ]
    }
   ],
   "source": [
    "mlp = MLPClassifier()\n",
    "mlp.fit(X_train2, y_train2)\n",
    "compute_metrics(y_test2, mlp.predict(X_test2))"
   ]
  },
  {
   "cell_type": "code",
   "execution_count": 62,
   "metadata": {},
   "outputs": [
    {
     "name": "stdout",
     "output_type": "stream",
     "text": [
      "[[ 448   70    0  500   11    0]\n",
      " [ 284  115    0  156    3    1]\n",
      " [   0    0   65  114   76  165]\n",
      " [ 219   31   22 1548  221  108]\n",
      " [  33    2   26  893  227  143]\n",
      " [   2    0   46  434  168  225]]\n",
      "Accuracy: 0.4134675896790434\n",
      "                        precision    recall  f1-score   support\n",
      "\n",
      "       Cystic fibrosis       0.45      0.44      0.44      1029\n",
      "              Diabetes       0.53      0.21      0.30       559\n",
      "       Hemochromatosis       0.41      0.15      0.22       420\n",
      "        Leigh syndrome       0.42      0.72      0.53      2149\n",
      "Mitochondrial myopathy       0.32      0.17      0.22      1324\n",
      "             Tay-Sachs       0.35      0.26      0.30       875\n",
      "\n",
      "              accuracy                           0.41      6356\n",
      "             macro avg       0.41      0.32      0.34      6356\n",
      "          weighted avg       0.41      0.41      0.38      6356\n",
      "\n"
     ]
    }
   ],
   "source": [
    "svc = SVC()\n",
    "svc.fit(X_train2, y_train2)\n",
    "compute_metrics(y_test2, svc.predict(X_test2))"
   ]
  },
  {
   "cell_type": "markdown",
   "metadata": {},
   "source": [
    "# Predicting Disorder + Subclass"
   ]
  },
  {
   "cell_type": "code",
   "execution_count": 63,
   "metadata": {},
   "outputs": [
    {
     "name": "stdout",
     "output_type": "stream",
     "text": [
      "[[   0    0    0   38    1    0    6    0   41    0    0    1]\n",
      " [   0    0    0   11    0    0   12    0   30    0    0    0]\n",
      " [   0    0    0    6    7    0    0    0    0   12    0   15]\n",
      " [   0    0    0 1352  252    0   19    0  180   13    0   81]\n",
      " [   0    0    0  754  366    0    2    0   35   37    0  130]\n",
      " [   0    0    0   38   21    0    0    0    0    7    0   29]\n",
      " [   0    0    0  100    2    0  119    0  283    0    0    2]\n",
      " [   0    0    0   14    0    0   12    0   24    0    0    1]\n",
      " [   0    0    0  401    7    0   75    0  458    0    0    1]\n",
      " [   0    0    0   42  100    0    0    0    0   82    0  156]\n",
      " [   0    0    0   78   36    0    8    0   35   18    0   26]\n",
      " [   0    0    0  256  250    0    0    0    2   56    0  216]]\n",
      "Accuracy: 0.407960981749528\n",
      "                                                                      precision    recall  f1-score   support\n",
      "\n",
      "       Mitochondrial genetic inheritance disorders - Cystic fibrosis       0.00      0.00      0.00        87\n",
      "              Mitochondrial genetic inheritance disorders - Diabetes       0.00      0.00      0.00        53\n",
      "       Mitochondrial genetic inheritance disorders - Hemochromatosis       0.00      0.00      0.00        40\n",
      "        Mitochondrial genetic inheritance disorders - Leigh syndrome       0.44      0.71      0.54      1897\n",
      "Mitochondrial genetic inheritance disorders - Mitochondrial myopathy       0.35      0.28      0.31      1324\n",
      "             Mitochondrial genetic inheritance disorders - Tay-Sachs       0.00      0.00      0.00        95\n",
      "             Multifactorial genetic inheritance disorders - Diabetes       0.47      0.24      0.31       506\n",
      "       Multifactorial genetic inheritance disorders - Leigh syndrome       0.00      0.00      0.00        51\n",
      "                  Single-gene inheritance diseases - Cystic fibrosis       0.42      0.49      0.45       942\n",
      "                  Single-gene inheritance diseases - Hemochromatosis       0.36      0.22      0.27       380\n",
      "                   Single-gene inheritance diseases - Leigh syndrome       0.00      0.00      0.00       201\n",
      "                        Single-gene inheritance diseases - Tay-Sachs       0.33      0.28      0.30       780\n",
      "\n",
      "                                                            accuracy                           0.41      6356\n",
      "                                                           macro avg       0.20      0.18      0.18      6356\n",
      "                                                        weighted avg       0.37      0.41      0.37      6356\n",
      "\n"
     ]
    }
   ],
   "source": [
    "logRegression = LogisticRegression()\n",
    "logRegression.fit(X_train3, y_train3)\n",
    "compute_metrics(y_test3, logRegression.predict(X_test3))"
   ]
  },
  {
   "cell_type": "code",
   "execution_count": 64,
   "metadata": {},
   "outputs": [
    {
     "name": "stdout",
     "output_type": "stream",
     "text": [
      "[[  5   0   0  22  11   0  18   4  17   0   5   5]\n",
      " [  1   2   0   7   5   1  13   1  18   0   3   2]\n",
      " [  0   0   2  10  12   2   0   0   1   6   0   7]\n",
      " [ 30   9  11 634 422  33 111  11 264  73  90 209]\n",
      " [ 17   6  16 448 353  23  29   3  98  74  55 202]\n",
      " [  0   1   3  24  28   2   0   0   5  11   2  19]\n",
      " [ 16  17   0  94  35   1 138  16 163   1  21   4]\n",
      " [  4   1   0   5   4   0  15   0  19   1   2   0]\n",
      " [ 22  18   3 251  90   3 188  19 278   4  38  28]\n",
      " [  0   0   7  85  78   8   0   3   5  77  19  98]\n",
      " [  6   1   0  56  42   4  17   1  31  14   2  27]\n",
      " [  5   2  12 190 202  14  12   1  24 103  36 179]]\n",
      "Accuracy: 0.263058527375708\n",
      "                                                                      precision    recall  f1-score   support\n",
      "\n",
      "       Mitochondrial genetic inheritance disorders - Cystic fibrosis       0.05      0.06      0.05        87\n",
      "              Mitochondrial genetic inheritance disorders - Diabetes       0.04      0.04      0.04        53\n",
      "       Mitochondrial genetic inheritance disorders - Hemochromatosis       0.04      0.05      0.04        40\n",
      "        Mitochondrial genetic inheritance disorders - Leigh syndrome       0.35      0.33      0.34      1897\n",
      "Mitochondrial genetic inheritance disorders - Mitochondrial myopathy       0.28      0.27      0.27      1324\n",
      "             Mitochondrial genetic inheritance disorders - Tay-Sachs       0.02      0.02      0.02        95\n",
      "             Multifactorial genetic inheritance disorders - Diabetes       0.26      0.27      0.26       506\n",
      "       Multifactorial genetic inheritance disorders - Leigh syndrome       0.00      0.00      0.00        51\n",
      "                  Single-gene inheritance diseases - Cystic fibrosis       0.30      0.30      0.30       942\n",
      "                  Single-gene inheritance diseases - Hemochromatosis       0.21      0.20      0.21       380\n",
      "                   Single-gene inheritance diseases - Leigh syndrome       0.01      0.01      0.01       201\n",
      "                        Single-gene inheritance diseases - Tay-Sachs       0.23      0.23      0.23       780\n",
      "\n",
      "                                                            accuracy                           0.26      6356\n",
      "                                                           macro avg       0.15      0.15      0.15      6356\n",
      "                                                        weighted avg       0.27      0.26      0.27      6356\n",
      "\n"
     ]
    }
   ],
   "source": [
    "decisionTree = DecisionTreeClassifier()\n",
    "decisionTree.fit(X_train3, y_train3)\n",
    "compute_metrics(y_test3, decisionTree.predict(X_test3))"
   ]
  },
  {
   "cell_type": "code",
   "execution_count": 65,
   "metadata": {},
   "outputs": [
    {
     "name": "stdout",
     "output_type": "stream",
     "text": [
      "[[   0    0    0   50    3    0    5    0   28    0    0    1]\n",
      " [   0    0    0   15    0    0   12    0   26    0    0    0]\n",
      " [   0    0    0   10    8    0    0    0    0    9    0   13]\n",
      " [   0    0    0 1292  325    0   22    0  178   10    0   70]\n",
      " [   0    0    0  794  354    0    4    0   35   29    0  108]\n",
      " [   0    0    0   49   27    0    0    0    0    4    0   15]\n",
      " [   0    1    0  126    8    0  122    0  248    1    0    0]\n",
      " [   0    0    0   10    1    0   11    0   28    0    0    1]\n",
      " [   0    0    0  441   23    0  106    0  370    0    0    2]\n",
      " [   0    0    0  105  109    0    0    0    0   56    0  110]\n",
      " [   0    0    0   90   44    0    7    0   30    8    0   22]\n",
      " [   0    0    1  323  274    0    0    0    3   45    1  133]]\n",
      "Accuracy: 0.3661107614852108\n",
      "                                                                      precision    recall  f1-score   support\n",
      "\n",
      "       Mitochondrial genetic inheritance disorders - Cystic fibrosis       0.00      0.00      0.00        87\n",
      "              Mitochondrial genetic inheritance disorders - Diabetes       0.00      0.00      0.00        53\n",
      "       Mitochondrial genetic inheritance disorders - Hemochromatosis       0.00      0.00      0.00        40\n",
      "        Mitochondrial genetic inheritance disorders - Leigh syndrome       0.39      0.68      0.50      1897\n",
      "Mitochondrial genetic inheritance disorders - Mitochondrial myopathy       0.30      0.27      0.28      1324\n",
      "             Mitochondrial genetic inheritance disorders - Tay-Sachs       0.00      0.00      0.00        95\n",
      "             Multifactorial genetic inheritance disorders - Diabetes       0.42      0.24      0.31       506\n",
      "       Multifactorial genetic inheritance disorders - Leigh syndrome       0.00      0.00      0.00        51\n",
      "                  Single-gene inheritance diseases - Cystic fibrosis       0.39      0.39      0.39       942\n",
      "                  Single-gene inheritance diseases - Hemochromatosis       0.35      0.15      0.21       380\n",
      "                   Single-gene inheritance diseases - Leigh syndrome       0.00      0.00      0.00       201\n",
      "                        Single-gene inheritance diseases - Tay-Sachs       0.28      0.17      0.21       780\n",
      "\n",
      "                                                            accuracy                           0.37      6356\n",
      "                                                           macro avg       0.18      0.16      0.16      6356\n",
      "                                                        weighted avg       0.33      0.37      0.33      6356\n",
      "\n"
     ]
    }
   ],
   "source": [
    "randomForest = RandomForestClassifier()\n",
    "randomForest.fit(X_train3, y_train3)\n",
    "compute_metrics(y_test3, randomForest.predict(X_test3))"
   ]
  },
  {
   "cell_type": "code",
   "execution_count": 66,
   "metadata": {},
   "outputs": [
    {
     "name": "stderr",
     "output_type": "stream",
     "text": [
      "/Users/lucasmarch/opt/anaconda3/lib/python3.8/site-packages/sklearn/neural_network/_multilayer_perceptron.py:676: ConvergenceWarning: Stochastic Optimizer: Maximum iterations (200) reached and the optimization hasn't converged yet.\n",
      "  warnings.warn(\n"
     ]
    },
    {
     "name": "stdout",
     "output_type": "stream",
     "text": [
      "[[   1    1    0   30    6    0   11    0   37    0    0    1]\n",
      " [   0    0    0   11    0    0   14    0   28    0    0    0]\n",
      " [   0    0    0    3   14    0    0    0    1   11    2    9]\n",
      " [   1    1    1 1062  406    1   41    3  222   39    2  118]\n",
      " [   1    0    3  650  357    4    8    0   43   69    4  185]\n",
      " [   0    0    0   31   24    0    0    0    0   15    0   25]\n",
      " [   1    3    0   94   12    0  156    5  234    0    0    1]\n",
      " [   0    2    0   14    1    0   13    1   19    0    0    1]\n",
      " [   0    0    0  350   36    0  148    4  403    0    1    0]\n",
      " [   0    0    1   66   82    1    0    0    0  109    4  117]\n",
      " [   0    1    0   61   45    0   11    3   33   18    1   28]\n",
      " [   0    0    1  226  233    2    0    0    7  111    3  197]]\n",
      "Accuracy: 0.35981749528005036\n",
      "                                                                      precision    recall  f1-score   support\n",
      "\n",
      "       Mitochondrial genetic inheritance disorders - Cystic fibrosis       0.25      0.01      0.02        87\n",
      "              Mitochondrial genetic inheritance disorders - Diabetes       0.00      0.00      0.00        53\n",
      "       Mitochondrial genetic inheritance disorders - Hemochromatosis       0.00      0.00      0.00        40\n",
      "        Mitochondrial genetic inheritance disorders - Leigh syndrome       0.41      0.56      0.47      1897\n",
      "Mitochondrial genetic inheritance disorders - Mitochondrial myopathy       0.29      0.27      0.28      1324\n",
      "             Mitochondrial genetic inheritance disorders - Tay-Sachs       0.00      0.00      0.00        95\n",
      "             Multifactorial genetic inheritance disorders - Diabetes       0.39      0.31      0.34       506\n",
      "       Multifactorial genetic inheritance disorders - Leigh syndrome       0.06      0.02      0.03        51\n",
      "                  Single-gene inheritance diseases - Cystic fibrosis       0.39      0.43      0.41       942\n",
      "                  Single-gene inheritance diseases - Hemochromatosis       0.29      0.29      0.29       380\n",
      "                   Single-gene inheritance diseases - Leigh syndrome       0.06      0.00      0.01       201\n",
      "                        Single-gene inheritance diseases - Tay-Sachs       0.29      0.25      0.27       780\n",
      "\n",
      "                                                            accuracy                           0.36      6356\n",
      "                                                           macro avg       0.20      0.18      0.18      6356\n",
      "                                                        weighted avg       0.33      0.36      0.34      6356\n",
      "\n"
     ]
    }
   ],
   "source": [
    "mlp = MLPClassifier()\n",
    "mlp.fit(X_train3, y_train3)\n",
    "compute_metrics(y_test3, mlp.predict(X_test3))"
   ]
  },
  {
   "cell_type": "code",
   "execution_count": 67,
   "metadata": {},
   "outputs": [
    {
     "name": "stdout",
     "output_type": "stream",
     "text": [
      "[[   0    0    0   43    2    0    3    0   39    0    0    0]\n",
      " [   0    0    0   11    0    0    8    0   34    0    0    0]\n",
      " [   0    0    0    6   12    0    0    0    0    6    0   16]\n",
      " [   0    0    0 1288  322    0   18    0  196   10    0   63]\n",
      " [   0    0    0  764  369    0    3    0   38   22    0  128]\n",
      " [   0    0    0   43   25    0    0    0    0    6    0   21]\n",
      " [   0    0    0  103    6    0  104    0  292    0    0    1]\n",
      " [   0    0    0   11    1    0   13    0   25    0    0    1]\n",
      " [   0    0    0  400   13    0   71    0  458    0    0    0]\n",
      " [   0    0    0   70  116    0    0    0    0   60    0  134]\n",
      " [   0    0    0   89   37    0    4    0   38   11    0   22]\n",
      " [   0    0    0  278  269    0    0    0    3   39    0  191]]\n",
      "Accuracy: 0.3886091881686595\n",
      "                                                                      precision    recall  f1-score   support\n",
      "\n",
      "       Mitochondrial genetic inheritance disorders - Cystic fibrosis       0.00      0.00      0.00        87\n",
      "              Mitochondrial genetic inheritance disorders - Diabetes       0.00      0.00      0.00        53\n",
      "       Mitochondrial genetic inheritance disorders - Hemochromatosis       0.00      0.00      0.00        40\n",
      "        Mitochondrial genetic inheritance disorders - Leigh syndrome       0.41      0.68      0.51      1897\n",
      "Mitochondrial genetic inheritance disorders - Mitochondrial myopathy       0.31      0.28      0.30      1324\n",
      "             Mitochondrial genetic inheritance disorders - Tay-Sachs       0.00      0.00      0.00        95\n",
      "             Multifactorial genetic inheritance disorders - Diabetes       0.46      0.21      0.28       506\n",
      "       Multifactorial genetic inheritance disorders - Leigh syndrome       0.00      0.00      0.00        51\n",
      "                  Single-gene inheritance diseases - Cystic fibrosis       0.41      0.49      0.44       942\n",
      "                  Single-gene inheritance diseases - Hemochromatosis       0.39      0.16      0.22       380\n",
      "                   Single-gene inheritance diseases - Leigh syndrome       0.00      0.00      0.00       201\n",
      "                        Single-gene inheritance diseases - Tay-Sachs       0.33      0.24      0.28       780\n",
      "\n",
      "                                                            accuracy                           0.39      6356\n",
      "                                                           macro avg       0.19      0.17      0.17      6356\n",
      "                                                        weighted avg       0.35      0.39      0.35      6356\n",
      "\n"
     ]
    }
   ],
   "source": [
    "svc = SVC()\n",
    "svc.fit(X_train3, y_train3)\n",
    "compute_metrics(y_test3, svc.predict(X_test3))"
   ]
  }
 ],
 "metadata": {
  "interpreter": {
   "hash": "72c83f0b95900afbea466442831a3ad41b48157d30d70a66ced4ee4a94320d61"
  },
  "kernelspec": {
   "display_name": "Python 3.8.3 ('base')",
   "language": "python",
   "name": "python3"
  },
  "language_info": {
   "codemirror_mode": {
    "name": "ipython",
    "version": 3
   },
   "file_extension": ".py",
   "mimetype": "text/x-python",
   "name": "python",
   "nbconvert_exporter": "python",
   "pygments_lexer": "ipython3",
   "version": "3.8.3"
  },
  "orig_nbformat": 4
 },
 "nbformat": 4,
 "nbformat_minor": 2
}
