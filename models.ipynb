{
 "cells": [
  {
   "cell_type": "code",
   "execution_count": 3,
   "metadata": {},
   "outputs": [],
   "source": [
    "import pandas as pd\n",
    "import numpy as np\n",
    "import matplotlib.pyplot as plt\n",
    "import seaborn as sns\n",
    "from sklearn.model_selection import train_test_split"
   ]
  },
  {
   "cell_type": "code",
   "execution_count": 56,
   "metadata": {},
   "outputs": [],
   "source": [
    "#df = pd.read_csv(\"train_processed.csv\")\n",
    "df2 = pd.read_csv(\"./data/train_processed_encoded_balanced.csv\", index_col=0)\n",
    "X = pd.read_csv('./data/x.csv', index_col=0)\n",
    "y_ds_un= pd.read_csv('./data/y_ds.csv', index_col=0)\n",
    "X_gd = pd.read_csv('./data/x_gd_resampled.csv', index_col=0)\n",
    "y_gd = pd.read_csv('./data/y_gd_resampled.csv', index_col=0)\n",
    "X_ds = pd.read_csv('./data/x_ds_resampled.csv', index_col=0)\n",
    "y_ds = pd.read_csv('./data/y_ds_resampled.csv', index_col=0)\n",
    "X_ds2 = pd.read_csv('./data/x_ds+gd_edit_resampled.csv', index_col=0)\n",
    "y_ds2 = pd.read_csv('./data/y_ds+gd_edit_resampled.csv', index_col=0)\n",
    "X_gdds = pd.read_csv('./data/x_gdds_resampled.csv', index_col=0)\n",
    "y_gdds = pd.read_csv('./data/y_gdds_resampled.csv', index_col=0)\n",
    "X_gdds2 = pd.read_csv('./data/x_gdds2_edit_resampled.csv', index_col=0)\n",
    "y_gdds2 = pd.read_csv('./data/y_gdds2_edit_resampled.csv', index_col=0)"
   ]
  },
  {
   "cell_type": "code",
   "execution_count": 58,
   "metadata": {},
   "outputs": [
    {
     "data": {
      "text/html": [
       "<div>\n",
       "<style scoped>\n",
       "    .dataframe tbody tr th:only-of-type {\n",
       "        vertical-align: middle;\n",
       "    }\n",
       "\n",
       "    .dataframe tbody tr th {\n",
       "        vertical-align: top;\n",
       "    }\n",
       "\n",
       "    .dataframe thead th {\n",
       "        text-align: right;\n",
       "    }\n",
       "</style>\n",
       "<table border=\"1\" class=\"dataframe\">\n",
       "  <thead>\n",
       "    <tr style=\"text-align: right;\">\n",
       "      <th></th>\n",
       "      <th>Patient Age</th>\n",
       "      <th>Genes in mother's side</th>\n",
       "      <th>Inherited from father</th>\n",
       "      <th>Maternal gene</th>\n",
       "      <th>Paternal gene</th>\n",
       "      <th>Blood cell count (mcL)</th>\n",
       "      <th>Mother's age</th>\n",
       "      <th>Father's age</th>\n",
       "      <th>Status</th>\n",
       "      <th>Respiratory Rate (breaths/min)</th>\n",
       "      <th>...</th>\n",
       "      <th>History of anomalies in previous pregnancies</th>\n",
       "      <th>No. of previous abortion</th>\n",
       "      <th>Birth defects</th>\n",
       "      <th>White Blood cell count (thousand per microliter)</th>\n",
       "      <th>Blood test result</th>\n",
       "      <th>Symptom 1</th>\n",
       "      <th>Symptom 2</th>\n",
       "      <th>Symptom 3</th>\n",
       "      <th>Symptom 4</th>\n",
       "      <th>Symptom 5</th>\n",
       "    </tr>\n",
       "  </thead>\n",
       "  <tbody>\n",
       "    <tr>\n",
       "      <th>0</th>\n",
       "      <td>-1.128463</td>\n",
       "      <td>0.829238</td>\n",
       "      <td>-0.797596</td>\n",
       "      <td>0.802715</td>\n",
       "      <td>-0.870854</td>\n",
       "      <td>-0.693956</td>\n",
       "      <td>-0.853643</td>\n",
       "      <td>-1.086047</td>\n",
       "      <td>-0.998339</td>\n",
       "      <td>-0.900493</td>\n",
       "      <td>...</td>\n",
       "      <td>0.897342</td>\n",
       "      <td>0.000035</td>\n",
       "      <td>0.908367</td>\n",
       "      <td>0.942378</td>\n",
       "      <td>1.162632</td>\n",
       "      <td>0.766328</td>\n",
       "      <td>0.827148</td>\n",
       "      <td>0.857458</td>\n",
       "      <td>1.112873</td>\n",
       "      <td>1.192865</td>\n",
       "    </tr>\n",
       "    <tr>\n",
       "      <th>1</th>\n",
       "      <td>-0.657008</td>\n",
       "      <td>0.829238</td>\n",
       "      <td>1.253709</td>\n",
       "      <td>-1.245714</td>\n",
       "      <td>-0.870854</td>\n",
       "      <td>0.057669</td>\n",
       "      <td>-0.853643</td>\n",
       "      <td>-0.883431</td>\n",
       "      <td>1.001617</td>\n",
       "      <td>1.110451</td>\n",
       "      <td>...</td>\n",
       "      <td>0.897342</td>\n",
       "      <td>0.000035</td>\n",
       "      <td>-1.100825</td>\n",
       "      <td>-0.777460</td>\n",
       "      <td>0.294673</td>\n",
       "      <td>0.766328</td>\n",
       "      <td>0.827148</td>\n",
       "      <td>0.857458</td>\n",
       "      <td>1.112873</td>\n",
       "      <td>-0.838278</td>\n",
       "    </tr>\n",
       "    <tr>\n",
       "      <th>2</th>\n",
       "      <td>-0.185554</td>\n",
       "      <td>0.829238</td>\n",
       "      <td>-0.797596</td>\n",
       "      <td>-1.245714</td>\n",
       "      <td>-0.870854</td>\n",
       "      <td>-0.029341</td>\n",
       "      <td>0.973622</td>\n",
       "      <td>-0.950970</td>\n",
       "      <td>-0.998339</td>\n",
       "      <td>-0.900493</td>\n",
       "      <td>...</td>\n",
       "      <td>0.897342</td>\n",
       "      <td>1.490541</td>\n",
       "      <td>0.908367</td>\n",
       "      <td>-0.002017</td>\n",
       "      <td>0.294673</td>\n",
       "      <td>-1.304863</td>\n",
       "      <td>0.827148</td>\n",
       "      <td>0.857458</td>\n",
       "      <td>1.112873</td>\n",
       "      <td>1.192865</td>\n",
       "    </tr>\n",
       "    <tr>\n",
       "      <th>3</th>\n",
       "      <td>1.228809</td>\n",
       "      <td>0.829238</td>\n",
       "      <td>-0.797596</td>\n",
       "      <td>0.802715</td>\n",
       "      <td>-0.870854</td>\n",
       "      <td>-0.971047</td>\n",
       "      <td>-1.056673</td>\n",
       "      <td>-1.086047</td>\n",
       "      <td>1.001617</td>\n",
       "      <td>1.110451</td>\n",
       "      <td>...</td>\n",
       "      <td>0.897342</td>\n",
       "      <td>-0.745218</td>\n",
       "      <td>0.908367</td>\n",
       "      <td>0.173414</td>\n",
       "      <td>-0.573287</td>\n",
       "      <td>-1.304863</td>\n",
       "      <td>-1.208916</td>\n",
       "      <td>0.857458</td>\n",
       "      <td>-0.898533</td>\n",
       "      <td>-0.838278</td>\n",
       "    </tr>\n",
       "    <tr>\n",
       "      <th>4</th>\n",
       "      <td>1.700263</td>\n",
       "      <td>0.829238</td>\n",
       "      <td>-0.797596</td>\n",
       "      <td>0.802715</td>\n",
       "      <td>-0.870854</td>\n",
       "      <td>1.021928</td>\n",
       "      <td>-0.853643</td>\n",
       "      <td>-1.086047</td>\n",
       "      <td>1.001617</td>\n",
       "      <td>-0.900493</td>\n",
       "      <td>...</td>\n",
       "      <td>-1.114351</td>\n",
       "      <td>-1.490472</td>\n",
       "      <td>-1.100825</td>\n",
       "      <td>1.106891</td>\n",
       "      <td>0.294673</td>\n",
       "      <td>0.766328</td>\n",
       "      <td>-1.208916</td>\n",
       "      <td>-1.166184</td>\n",
       "      <td>1.112873</td>\n",
       "      <td>-0.838278</td>\n",
       "    </tr>\n",
       "  </tbody>\n",
       "</table>\n",
       "<p>5 rows × 28 columns</p>\n",
       "</div>"
      ],
      "text/plain": [
       "   Patient Age  Genes in mother's side  Inherited from father  Maternal gene  \\\n",
       "0    -1.128463                0.829238              -0.797596       0.802715   \n",
       "1    -0.657008                0.829238               1.253709      -1.245714   \n",
       "2    -0.185554                0.829238              -0.797596      -1.245714   \n",
       "3     1.228809                0.829238              -0.797596       0.802715   \n",
       "4     1.700263                0.829238              -0.797596       0.802715   \n",
       "\n",
       "   Paternal gene  Blood cell count (mcL)  Mother's age  Father's age  \\\n",
       "0      -0.870854               -0.693956     -0.853643     -1.086047   \n",
       "1      -0.870854                0.057669     -0.853643     -0.883431   \n",
       "2      -0.870854               -0.029341      0.973622     -0.950970   \n",
       "3      -0.870854               -0.971047     -1.056673     -1.086047   \n",
       "4      -0.870854                1.021928     -0.853643     -1.086047   \n",
       "\n",
       "     Status  Respiratory Rate (breaths/min)  ...  \\\n",
       "0 -0.998339                       -0.900493  ...   \n",
       "1  1.001617                        1.110451  ...   \n",
       "2 -0.998339                       -0.900493  ...   \n",
       "3  1.001617                        1.110451  ...   \n",
       "4  1.001617                       -0.900493  ...   \n",
       "\n",
       "   History of anomalies in previous pregnancies  No. of previous abortion  \\\n",
       "0                                      0.897342                  0.000035   \n",
       "1                                      0.897342                  0.000035   \n",
       "2                                      0.897342                  1.490541   \n",
       "3                                      0.897342                 -0.745218   \n",
       "4                                     -1.114351                 -1.490472   \n",
       "\n",
       "   Birth defects  White Blood cell count (thousand per microliter)  \\\n",
       "0       0.908367                                          0.942378   \n",
       "1      -1.100825                                         -0.777460   \n",
       "2       0.908367                                         -0.002017   \n",
       "3       0.908367                                          0.173414   \n",
       "4      -1.100825                                          1.106891   \n",
       "\n",
       "   Blood test result  Symptom 1  Symptom 2  Symptom 3  Symptom 4  Symptom 5  \n",
       "0           1.162632   0.766328   0.827148   0.857458   1.112873   1.192865  \n",
       "1           0.294673   0.766328   0.827148   0.857458   1.112873  -0.838278  \n",
       "2           0.294673  -1.304863   0.827148   0.857458   1.112873   1.192865  \n",
       "3          -0.573287  -1.304863  -1.208916   0.857458  -0.898533  -0.838278  \n",
       "4           0.294673   0.766328  -1.208916  -1.166184   1.112873  -0.838278  \n",
       "\n",
       "[5 rows x 28 columns]"
      ]
     },
     "execution_count": 58,
     "metadata": {},
     "output_type": "execute_result"
    }
   ],
   "source": [
    "X.head()"
   ]
  },
  {
   "cell_type": "code",
   "execution_count": 59,
   "metadata": {},
   "outputs": [],
   "source": [
    "from sklearn.metrics import confusion_matrix, accuracy_score, precision_score, recall_score, classification_report\n",
    "\n",
    "def compute_metrics(actual, predicted):\n",
    "    #tn, fp, fn, tp = confusion_matrix(actual, predicted).ravel()\n",
    "    print(confusion_matrix(actual, predicted))\n",
    "    print(\"Accuracy: \" + str(accuracy_score(actual, predicted)))\n",
    "    print(classification_report(actual, predicted, zero_division=0))"
   ]
  },
  {
   "cell_type": "code",
   "execution_count": 60,
   "metadata": {},
   "outputs": [],
   "source": [
    "X_train1, X_test1, y_train1, y_test1 = train_test_split(X_gd, y_gd, test_size=0.30, random_state=42)\n",
    "X_train2, X_test2, y_train2, y_test2 = train_test_split(X_ds, y_ds, test_size=0.30, random_state=42)\n",
    "X_train3, X_test3, y_train3, y_test3 = train_test_split(X_gdds, y_gdds, test_size=0.30, random_state=42)"
   ]
  },
  {
   "cell_type": "markdown",
   "metadata": {},
   "source": [
    "## Predicting Genetic Disorder"
   ]
  },
  {
   "cell_type": "code",
   "execution_count": 61,
   "metadata": {},
   "outputs": [
    {
     "name": "stderr",
     "output_type": "stream",
     "text": [
      "/Users/lucasmarch/opt/anaconda3/lib/python3.8/site-packages/sklearn/utils/validation.py:1134: DataConversionWarning: A column-vector y was passed when a 1d array was expected. Please change the shape of y to (n_samples, ), for example using ravel().\n",
      "  y = column_or_1d(y, warn=True)\n"
     ]
    },
    {
     "name": "stdout",
     "output_type": "stream",
     "text": [
      "[[ 881  335 1074]\n",
      " [ 212 2004  108]\n",
      " [ 624  615 1045]]\n",
      "Accuracy: 0.5697303566251087\n",
      "                                              precision    recall  f1-score   support\n",
      "\n",
      " Mitochondrial genetic inheritance disorders       0.51      0.38      0.44      2290\n",
      "Multifactorial genetic inheritance disorders       0.68      0.86      0.76      2324\n",
      "            Single-gene inheritance diseases       0.47      0.46      0.46      2284\n",
      "\n",
      "                                    accuracy                           0.57      6898\n",
      "                                   macro avg       0.55      0.57      0.55      6898\n",
      "                                weighted avg       0.55      0.57      0.56      6898\n",
      "\n"
     ]
    }
   ],
   "source": [
    "from sklearn.linear_model import LogisticRegression\n",
    "\n",
    "logRegression = LogisticRegression()\n",
    "logRegression.fit(X_train1, y_train1)\n",
    "compute_metrics(y_test1, logRegression.predict(X_test1))"
   ]
  },
  {
   "cell_type": "code",
   "execution_count": 62,
   "metadata": {},
   "outputs": [
    {
     "name": "stdout",
     "output_type": "stream",
     "text": [
      "[[1177  195  918]\n",
      " [ 184 1884  256]\n",
      " [ 924  261 1099]]\n",
      "Accuracy: 0.6030733545955349\n",
      "                                              precision    recall  f1-score   support\n",
      "\n",
      " Mitochondrial genetic inheritance disorders       0.52      0.51      0.51      2290\n",
      "Multifactorial genetic inheritance disorders       0.81      0.81      0.81      2324\n",
      "            Single-gene inheritance diseases       0.48      0.48      0.48      2284\n",
      "\n",
      "                                    accuracy                           0.60      6898\n",
      "                                   macro avg       0.60      0.60      0.60      6898\n",
      "                                weighted avg       0.60      0.60      0.60      6898\n",
      "\n"
     ]
    }
   ],
   "source": [
    "from sklearn.tree import DecisionTreeClassifier\n",
    "\n",
    "decisionTree = DecisionTreeClassifier()\n",
    "decisionTree.fit(X_train1, y_train1)\n",
    "compute_metrics(y_test1, decisionTree.predict(X_test1))"
   ]
  },
  {
   "cell_type": "code",
   "execution_count": 63,
   "metadata": {},
   "outputs": [
    {
     "name": "stderr",
     "output_type": "stream",
     "text": [
      "<ipython-input-63-83cc24ab388d>:4: DataConversionWarning: A column-vector y was passed when a 1d array was expected. Please change the shape of y to (n_samples,), for example using ravel().\n",
      "  randomForest.fit(X_train1, y_train1)\n"
     ]
    },
    {
     "name": "stdout",
     "output_type": "stream",
     "text": [
      "[[1472  108  710]\n",
      " [  92 2094  138]\n",
      " [ 946  191 1147]]\n",
      "Accuracy: 0.683241519280951\n",
      "                                              precision    recall  f1-score   support\n",
      "\n",
      " Mitochondrial genetic inheritance disorders       0.59      0.64      0.61      2290\n",
      "Multifactorial genetic inheritance disorders       0.88      0.90      0.89      2324\n",
      "            Single-gene inheritance diseases       0.57      0.50      0.54      2284\n",
      "\n",
      "                                    accuracy                           0.68      6898\n",
      "                                   macro avg       0.68      0.68      0.68      6898\n",
      "                                weighted avg       0.68      0.68      0.68      6898\n",
      "\n"
     ]
    }
   ],
   "source": [
    "from sklearn.ensemble import RandomForestClassifier\n",
    "\n",
    "randomForest = RandomForestClassifier()\n",
    "randomForest.fit(X_train1, y_train1)\n",
    "compute_metrics(y_test1, randomForest.predict(X_test1))"
   ]
  },
  {
   "cell_type": "code",
   "execution_count": 64,
   "metadata": {},
   "outputs": [
    {
     "name": "stderr",
     "output_type": "stream",
     "text": [
      "/Users/lucasmarch/opt/anaconda3/lib/python3.8/site-packages/sklearn/neural_network/_multilayer_perceptron.py:1075: DataConversionWarning: A column-vector y was passed when a 1d array was expected. Please change the shape of y to (n_samples, ), for example using ravel().\n",
      "  y = column_or_1d(y, warn=True)\n",
      "/Users/lucasmarch/opt/anaconda3/lib/python3.8/site-packages/sklearn/neural_network/_multilayer_perceptron.py:676: ConvergenceWarning: Stochastic Optimizer: Maximum iterations (200) reached and the optimization hasn't converged yet.\n",
      "  warnings.warn(\n"
     ]
    },
    {
     "name": "stdout",
     "output_type": "stream",
     "text": [
      "[[1288  189  813]\n",
      " [  74 2103  147]\n",
      " [ 727  287 1270]]\n",
      "Accuracy: 0.6757031023485068\n",
      "                                              precision    recall  f1-score   support\n",
      "\n",
      " Mitochondrial genetic inheritance disorders       0.62      0.56      0.59      2290\n",
      "Multifactorial genetic inheritance disorders       0.82      0.90      0.86      2324\n",
      "            Single-gene inheritance diseases       0.57      0.56      0.56      2284\n",
      "\n",
      "                                    accuracy                           0.68      6898\n",
      "                                   macro avg       0.67      0.67      0.67      6898\n",
      "                                weighted avg       0.67      0.68      0.67      6898\n",
      "\n"
     ]
    }
   ],
   "source": [
    "from sklearn.neural_network import MLPClassifier\n",
    "clf = MLPClassifier()\n",
    "clf.fit(X_train1, y_train1)\n",
    "compute_metrics(y_test1, clf.predict(X_test1))"
   ]
  },
  {
   "cell_type": "code",
   "execution_count": 65,
   "metadata": {},
   "outputs": [
    {
     "name": "stderr",
     "output_type": "stream",
     "text": [
      "/Users/lucasmarch/opt/anaconda3/lib/python3.8/site-packages/sklearn/utils/validation.py:1134: DataConversionWarning: A column-vector y was passed when a 1d array was expected. Please change the shape of y to (n_samples, ), for example using ravel().\n",
      "  y = column_or_1d(y, warn=True)\n"
     ]
    },
    {
     "name": "stdout",
     "output_type": "stream",
     "text": [
      "[[1535  176  579]\n",
      " [ 126 2089  109]\n",
      " [1008  320  956]]\n",
      "Accuracy: 0.6639605682806611\n",
      "                                              precision    recall  f1-score   support\n",
      "\n",
      " Mitochondrial genetic inheritance disorders       0.58      0.67      0.62      2290\n",
      "Multifactorial genetic inheritance disorders       0.81      0.90      0.85      2324\n",
      "            Single-gene inheritance diseases       0.58      0.42      0.49      2284\n",
      "\n",
      "                                    accuracy                           0.66      6898\n",
      "                                   macro avg       0.65      0.66      0.65      6898\n",
      "                                weighted avg       0.66      0.66      0.65      6898\n",
      "\n"
     ]
    }
   ],
   "source": [
    "from sklearn.svm import SVC\n",
    "\n",
    "svc = SVC()\n",
    "svc.fit(X_train1, y_train1)\n",
    "compute_metrics(y_test1, svc.predict(X_test1))"
   ]
  },
  {
   "cell_type": "markdown",
   "metadata": {},
   "source": [
    "## Predicting Subclass"
   ]
  },
  {
   "cell_type": "code",
   "execution_count": 66,
   "metadata": {},
   "outputs": [],
   "source": [
    "from imblearn.over_sampling import SMOTE\n",
    "over_sampler = SMOTE(random_state=42)\n",
    "X_train2, y_train2 = over_sampler.fit_resample(X_train2, y_train2)"
   ]
  },
  {
   "cell_type": "code",
   "execution_count": 67,
   "metadata": {},
   "outputs": [
    {
     "name": "stderr",
     "output_type": "stream",
     "text": [
      "/Users/lucasmarch/opt/anaconda3/lib/python3.8/site-packages/sklearn/utils/validation.py:1134: DataConversionWarning: A column-vector y was passed when a 1d array was expected. Please change the shape of y to (n_samples, ), for example using ravel().\n",
      "  y = column_or_1d(y, warn=True)\n"
     ]
    },
    {
     "name": "stdout",
     "output_type": "stream",
     "text": [
      "[[402 168   3 133 141  30  10]\n",
      " [231 285   3 312  56   6   3]\n",
      " [  1   0 653   0  22  64 214]\n",
      " [ 68 181   0 623  14   0   2]\n",
      " [179  38  59  22 319 174 107]\n",
      " [ 71  11 132   2 267 219 217]\n",
      " [  8   2 308   0  91 174 275]]\n",
      "Accuracy: 0.44063492063492066\n",
      "                                     precision    recall  f1-score   support\n",
      "\n",
      "                    Cystic fibrosis       0.42      0.45      0.44       887\n",
      "                           Diabetes       0.42      0.32      0.36       896\n",
      "                    Hemochromatosis       0.56      0.68      0.62       954\n",
      "Leber's hereditary optic neuropathy       0.57      0.70      0.63       888\n",
      "                     Leigh syndrome       0.35      0.36      0.35       898\n",
      "             Mitochondrial myopathy       0.33      0.24      0.28       919\n",
      "                          Tay-Sachs       0.33      0.32      0.33       858\n",
      "\n",
      "                           accuracy                           0.44      6300\n",
      "                          macro avg       0.43      0.44      0.43      6300\n",
      "                       weighted avg       0.43      0.44      0.43      6300\n",
      "\n"
     ]
    }
   ],
   "source": [
    "logRegression = LogisticRegression()\n",
    "logRegression.fit(X_train2, y_train2)\n",
    "compute_metrics(y_test2, logRegression.predict(X_test2))"
   ]
  },
  {
   "cell_type": "code",
   "execution_count": 68,
   "metadata": {},
   "outputs": [
    {
     "name": "stdout",
     "output_type": "stream",
     "text": [
      "[[319 195  14  83 162  84  30]\n",
      " [181 426   9 162  70  36  12]\n",
      " [  7  13 603   2  65 111 153]\n",
      " [ 55 120   1 683  20   8   1]\n",
      " [180  69  55  26 217 202 149]\n",
      " [108  26  73  10 207 234 261]\n",
      " [ 33  17 159   3 144 200 302]]\n",
      "Accuracy: 0.4419047619047619\n",
      "                                     precision    recall  f1-score   support\n",
      "\n",
      "                    Cystic fibrosis       0.36      0.36      0.36       887\n",
      "                           Diabetes       0.49      0.48      0.48       896\n",
      "                    Hemochromatosis       0.66      0.63      0.65       954\n",
      "Leber's hereditary optic neuropathy       0.70      0.77      0.74       888\n",
      "                     Leigh syndrome       0.25      0.24      0.24       898\n",
      "             Mitochondrial myopathy       0.27      0.25      0.26       919\n",
      "                          Tay-Sachs       0.33      0.35      0.34       858\n",
      "\n",
      "                           accuracy                           0.44      6300\n",
      "                          macro avg       0.44      0.44      0.44      6300\n",
      "                       weighted avg       0.44      0.44      0.44      6300\n",
      "\n"
     ]
    }
   ],
   "source": [
    "decisionTree = DecisionTreeClassifier()\n",
    "decisionTree.fit(X_train2, y_train2)\n",
    "compute_metrics(y_test2, decisionTree.predict(X_test2))"
   ]
  },
  {
   "cell_type": "code",
   "execution_count": 69,
   "metadata": {},
   "outputs": [
    {
     "name": "stderr",
     "output_type": "stream",
     "text": [
      "<ipython-input-69-528c26c4d368>:2: DataConversionWarning: A column-vector y was passed when a 1d array was expected. Please change the shape of y to (n_samples,), for example using ravel().\n",
      "  randomForest.fit(X_train2, y_train2)\n"
     ]
    },
    {
     "name": "stdout",
     "output_type": "stream",
     "text": [
      "[[489 164   0  38 126  46  24]\n",
      " [182 539   3 113  33  18   8]\n",
      " [  0   2 748   0  15  43 146]\n",
      " [ 54  44   0 780   7   2   1]\n",
      " [211  30  29   8 229 223 168]\n",
      " [ 95  10  50   0 194 267 303]\n",
      " [ 24   1 127   0  88 193 425]]\n",
      "Accuracy: 0.5519047619047619\n",
      "                                     precision    recall  f1-score   support\n",
      "\n",
      "                    Cystic fibrosis       0.46      0.55      0.50       887\n",
      "                           Diabetes       0.68      0.60      0.64       896\n",
      "                    Hemochromatosis       0.78      0.78      0.78       954\n",
      "Leber's hereditary optic neuropathy       0.83      0.88      0.85       888\n",
      "                     Leigh syndrome       0.33      0.26      0.29       898\n",
      "             Mitochondrial myopathy       0.34      0.29      0.31       919\n",
      "                          Tay-Sachs       0.40      0.50      0.44       858\n",
      "\n",
      "                           accuracy                           0.55      6300\n",
      "                          macro avg       0.55      0.55      0.55      6300\n",
      "                       weighted avg       0.55      0.55      0.55      6300\n",
      "\n"
     ]
    }
   ],
   "source": [
    "randomForest = RandomForestClassifier()\n",
    "randomForest.fit(X_train2, y_train2)\n",
    "compute_metrics(y_test2, randomForest.predict(X_test2))"
   ]
  },
  {
   "cell_type": "code",
   "execution_count": 70,
   "metadata": {},
   "outputs": [
    {
     "name": "stderr",
     "output_type": "stream",
     "text": [
      "/Users/lucasmarch/opt/anaconda3/lib/python3.8/site-packages/sklearn/neural_network/_multilayer_perceptron.py:1075: DataConversionWarning: A column-vector y was passed when a 1d array was expected. Please change the shape of y to (n_samples, ), for example using ravel().\n",
      "  y = column_or_1d(y, warn=True)\n"
     ]
    },
    {
     "name": "stdout",
     "output_type": "stream",
     "text": [
      "[[349 238   5  88 150  39  18]\n",
      " [199 494   3 129  52  13   6]\n",
      " [  3   2 709   0  23  46 171]\n",
      " [ 59  87   1 733   7   0   1]\n",
      " [162  67  61  22 269 175 142]\n",
      " [ 65  23 112   7 222 204 286]\n",
      " [ 13   6 217   0 107 140 375]]\n",
      "Accuracy: 0.4973015873015873\n",
      "                                     precision    recall  f1-score   support\n",
      "\n",
      "                    Cystic fibrosis       0.41      0.39      0.40       887\n",
      "                           Diabetes       0.54      0.55      0.54       896\n",
      "                    Hemochromatosis       0.64      0.74      0.69       954\n",
      "Leber's hereditary optic neuropathy       0.75      0.83      0.79       888\n",
      "                     Leigh syndrome       0.32      0.30      0.31       898\n",
      "             Mitochondrial myopathy       0.33      0.22      0.27       919\n",
      "                          Tay-Sachs       0.38      0.44      0.40       858\n",
      "\n",
      "                           accuracy                           0.50      6300\n",
      "                          macro avg       0.48      0.50      0.49      6300\n",
      "                       weighted avg       0.48      0.50      0.49      6300\n",
      "\n"
     ]
    },
    {
     "name": "stderr",
     "output_type": "stream",
     "text": [
      "/Users/lucasmarch/opt/anaconda3/lib/python3.8/site-packages/sklearn/neural_network/_multilayer_perceptron.py:676: ConvergenceWarning: Stochastic Optimizer: Maximum iterations (200) reached and the optimization hasn't converged yet.\n",
      "  warnings.warn(\n"
     ]
    }
   ],
   "source": [
    "mlp = MLPClassifier()\n",
    "mlp.fit(X_train2, y_train2)\n",
    "compute_metrics(y_test2, mlp.predict(X_test2))"
   ]
  },
  {
   "cell_type": "code",
   "execution_count": 71,
   "metadata": {},
   "outputs": [
    {
     "name": "stderr",
     "output_type": "stream",
     "text": [
      "/Users/lucasmarch/opt/anaconda3/lib/python3.8/site-packages/sklearn/utils/validation.py:1134: DataConversionWarning: A column-vector y was passed when a 1d array was expected. Please change the shape of y to (n_samples, ), for example using ravel().\n",
      "  y = column_or_1d(y, warn=True)\n"
     ]
    },
    {
     "name": "stdout",
     "output_type": "stream",
     "text": [
      "[[477 170   1  53 122  49  15]\n",
      " [212 501   2 119  47   8   7]\n",
      " [  1   0 717   0  20  45 171]\n",
      " [ 51  60   0 762  12   1   2]\n",
      " [197  38  41  15 262 223 122]\n",
      " [ 85  13  91   1 230 247 252]\n",
      " [ 20   2 180   0  98 176 382]]\n",
      "Accuracy: 0.5314285714285715\n",
      "                                     precision    recall  f1-score   support\n",
      "\n",
      "                    Cystic fibrosis       0.46      0.54      0.49       887\n",
      "                           Diabetes       0.64      0.56      0.60       896\n",
      "                    Hemochromatosis       0.69      0.75      0.72       954\n",
      "Leber's hereditary optic neuropathy       0.80      0.86      0.83       888\n",
      "                     Leigh syndrome       0.33      0.29      0.31       898\n",
      "             Mitochondrial myopathy       0.33      0.27      0.30       919\n",
      "                          Tay-Sachs       0.40      0.45      0.42       858\n",
      "\n",
      "                           accuracy                           0.53      6300\n",
      "                          macro avg       0.52      0.53      0.52      6300\n",
      "                       weighted avg       0.52      0.53      0.53      6300\n",
      "\n"
     ]
    }
   ],
   "source": [
    "svc = SVC()\n",
    "svc.fit(X_train2, y_train2)\n",
    "compute_metrics(y_test2, svc.predict(X_test2))"
   ]
  },
  {
   "cell_type": "markdown",
   "metadata": {},
   "source": [
    "# Predicting Disorder + Subclass"
   ]
  },
  {
   "cell_type": "code",
   "execution_count": 72,
   "metadata": {},
   "outputs": [
    {
     "name": "stderr",
     "output_type": "stream",
     "text": [
      "/Users/lucasmarch/opt/anaconda3/lib/python3.8/site-packages/sklearn/utils/validation.py:1134: DataConversionWarning: A column-vector y was passed when a 1d array was expected. Please change the shape of y to (n_samples, ), for example using ravel().\n",
      "  y = column_or_1d(y, warn=True)\n"
     ]
    },
    {
     "name": "stdout",
     "output_type": "stream",
     "text": [
      "[[ 73  27  67  18   5  92 128   0   7   1]\n",
      " [  8 202   5   0   0 168  39   0   1   1]\n",
      " [ 37   6 218 116  35  20 100   7  29  59]\n",
      " [ 14   0 181 155  50   5  36  27  35 130]\n",
      " [  1   0  32  69 112   0   1  49  16 136]\n",
      " [ 45 118  30   3   4 283 150   1   6   2]\n",
      " [ 41  43 116  20   1 166 217   0  10  10]\n",
      " [  0   0  10  31  67   0   1 165   3 151]\n",
      " [ 18   8  63  47  36  47  65  49  15  77]\n",
      " [  2   0  75 111  64   1   5  93  25 237]]\n",
      "Accuracy: 0.31942857142857145\n",
      "                                                                                   precision    recall  f1-score   support\n",
      "\n",
      "                    Mitochondrial genetic inheritance disorders - Cystic fibrosis       0.31      0.17      0.22       418\n",
      "Mitochondrial genetic inheritance disorders - Leber's hereditary optic neuropathy       0.50      0.48      0.49       424\n",
      "                     Mitochondrial genetic inheritance disorders - Leigh syndrome       0.27      0.35      0.31       627\n",
      "             Mitochondrial genetic inheritance disorders - Mitochondrial myopathy       0.27      0.24      0.26       633\n",
      "                          Mitochondrial genetic inheritance disorders - Tay-Sachs       0.30      0.27      0.28       416\n",
      "                          Multifactorial genetic inheritance disorders - Diabetes       0.36      0.44      0.40       642\n",
      "                               Single-gene inheritance diseases - Cystic fibrosis       0.29      0.35      0.32       624\n",
      "                               Single-gene inheritance diseases - Hemochromatosis       0.42      0.39      0.40       428\n",
      "                                Single-gene inheritance diseases - Leigh syndrome       0.10      0.04      0.05       425\n",
      "                                     Single-gene inheritance diseases - Tay-Sachs       0.29      0.39      0.33       613\n",
      "\n",
      "                                                                         accuracy                           0.32      5250\n",
      "                                                                        macro avg       0.31      0.31      0.31      5250\n",
      "                                                                     weighted avg       0.31      0.32      0.31      5250\n",
      "\n"
     ]
    }
   ],
   "source": [
    "logRegression = LogisticRegression()\n",
    "logRegression.fit(X_train3, y_train3)\n",
    "compute_metrics(y_test3, logRegression.predict(X_test3))"
   ]
  },
  {
   "cell_type": "code",
   "execution_count": 73,
   "metadata": {},
   "outputs": [
    {
     "name": "stdout",
     "output_type": "stream",
     "text": [
      "[[224  38  21  13  12  33  26   3  44   4]\n",
      " [ 24 212  11   2   1  93  63   0  17   1]\n",
      " [ 25  22 129 133  15  49 100  31  37  86]\n",
      " [ 18   3 142 134  14  28  58  56  45 135]\n",
      " [  9   2  15  19 273   2   1  29  34  32]\n",
      " [ 55  99  40  24   4 218 148   7  42   5]\n",
      " [ 38  52  88  62   7 124 179   8  45  21]\n",
      " [  3   0  32  74  32   0   4 130  43 110]\n",
      " [ 30  16  29  45  46  40  31  43 107  38]\n",
      " [  5   2  97 134  22   8  22 128  36 159]]\n",
      "Accuracy: 0.3361904761904762\n",
      "                                                                                   precision    recall  f1-score   support\n",
      "\n",
      "                    Mitochondrial genetic inheritance disorders - Cystic fibrosis       0.52      0.54      0.53       418\n",
      "Mitochondrial genetic inheritance disorders - Leber's hereditary optic neuropathy       0.48      0.50      0.49       424\n",
      "                     Mitochondrial genetic inheritance disorders - Leigh syndrome       0.21      0.21      0.21       627\n",
      "             Mitochondrial genetic inheritance disorders - Mitochondrial myopathy       0.21      0.21      0.21       633\n",
      "                          Mitochondrial genetic inheritance disorders - Tay-Sachs       0.64      0.66      0.65       416\n",
      "                          Multifactorial genetic inheritance disorders - Diabetes       0.37      0.34      0.35       642\n",
      "                               Single-gene inheritance diseases - Cystic fibrosis       0.28      0.29      0.29       624\n",
      "                               Single-gene inheritance diseases - Hemochromatosis       0.30      0.30      0.30       428\n",
      "                                Single-gene inheritance diseases - Leigh syndrome       0.24      0.25      0.24       425\n",
      "                                     Single-gene inheritance diseases - Tay-Sachs       0.27      0.26      0.26       613\n",
      "\n",
      "                                                                         accuracy                           0.34      5250\n",
      "                                                                        macro avg       0.35      0.36      0.35      5250\n",
      "                                                                     weighted avg       0.33      0.34      0.34      5250\n",
      "\n"
     ]
    }
   ],
   "source": [
    "decisionTree = DecisionTreeClassifier()\n",
    "decisionTree.fit(X_train3, y_train3)\n",
    "compute_metrics(y_test3, decisionTree.predict(X_test3))"
   ]
  },
  {
   "cell_type": "code",
   "execution_count": 74,
   "metadata": {},
   "outputs": [
    {
     "name": "stderr",
     "output_type": "stream",
     "text": [
      "<ipython-input-74-fcefb1d5c135>:2: DataConversionWarning: A column-vector y was passed when a 1d array was expected. Please change the shape of y to (n_samples,), for example using ravel().\n",
      "  randomForest.fit(X_train3, y_train3)\n"
     ]
    },
    {
     "name": "stdout",
     "output_type": "stream",
     "text": [
      "[[336   8  17   6   7  17  20   0   1   6]\n",
      " [ 13 281   6   3   0  77  43   0   1   0]\n",
      " [  0   2 204 148   1  28 128  11   4 101]\n",
      " [  0   0 165 182   2  12  53  36   1 182]\n",
      " [  1   0  10  15 360   0   0   8   1  21]\n",
      " [ 19  48  34  13   4 351 165   2   1   5]\n",
      " [  3  16 102  36   1 169 279   1   1  16]\n",
      " [  0   0  16  54  24   0   3 160   2 169]\n",
      " [ 23   9  40  34  29  29  42  22 138  59]\n",
      " [  0   0  92 129   4   1  11 101   0 275]]\n",
      "Accuracy: 0.4887619047619048\n",
      "                                                                                   precision    recall  f1-score   support\n",
      "\n",
      "                    Mitochondrial genetic inheritance disorders - Cystic fibrosis       0.85      0.80      0.83       418\n",
      "Mitochondrial genetic inheritance disorders - Leber's hereditary optic neuropathy       0.77      0.66      0.71       424\n",
      "                     Mitochondrial genetic inheritance disorders - Leigh syndrome       0.30      0.33      0.31       627\n",
      "             Mitochondrial genetic inheritance disorders - Mitochondrial myopathy       0.29      0.29      0.29       633\n",
      "                          Mitochondrial genetic inheritance disorders - Tay-Sachs       0.83      0.87      0.85       416\n",
      "                          Multifactorial genetic inheritance disorders - Diabetes       0.51      0.55      0.53       642\n",
      "                               Single-gene inheritance diseases - Cystic fibrosis       0.38      0.45      0.41       624\n",
      "                               Single-gene inheritance diseases - Hemochromatosis       0.47      0.37      0.42       428\n",
      "                                Single-gene inheritance diseases - Leigh syndrome       0.92      0.32      0.48       425\n",
      "                                     Single-gene inheritance diseases - Tay-Sachs       0.33      0.45      0.38       613\n",
      "\n",
      "                                                                         accuracy                           0.49      5250\n",
      "                                                                        macro avg       0.57      0.51      0.52      5250\n",
      "                                                                     weighted avg       0.53      0.49      0.49      5250\n",
      "\n"
     ]
    }
   ],
   "source": [
    "randomForest = RandomForestClassifier()\n",
    "randomForest.fit(X_train3, y_train3)\n",
    "compute_metrics(y_test3, randomForest.predict(X_test3))"
   ]
  },
  {
   "cell_type": "code",
   "execution_count": 75,
   "metadata": {},
   "outputs": [
    {
     "name": "stderr",
     "output_type": "stream",
     "text": [
      "/Users/lucasmarch/opt/anaconda3/lib/python3.8/site-packages/sklearn/neural_network/_multilayer_perceptron.py:1075: DataConversionWarning: A column-vector y was passed when a 1d array was expected. Please change the shape of y to (n_samples, ), for example using ravel().\n",
      "  y = column_or_1d(y, warn=True)\n",
      "/Users/lucasmarch/opt/anaconda3/lib/python3.8/site-packages/sklearn/neural_network/_multilayer_perceptron.py:676: ConvergenceWarning: Stochastic Optimizer: Maximum iterations (200) reached and the optimization hasn't converged yet.\n",
      "  warnings.warn(\n"
     ]
    },
    {
     "name": "stdout",
     "output_type": "stream",
     "text": [
      "[[309  11  18   6   4  20  34   0   9   7]\n",
      " [ 12 237   6   0   0 111  47   0  10   1]\n",
      " [ 39   6 147 131  24  28 107  18  44  83]\n",
      " [ 18   3 144 131  37  12  39  38  48 163]\n",
      " [  3   0   3  16 338   0   0  15  16  25]\n",
      " [ 43 107  33   4   5 231 195   2  17   5]\n",
      " [ 48  62  93  31   3 131 208   2  34  12]\n",
      " [  0   0  17  28  53   1   0 144  31 154]\n",
      " [  9  15  56  40  30  31  50  41  89  64]\n",
      " [  5   0  66 112  43   1  15  88  51 232]]\n",
      "Accuracy: 0.3935238095238095\n",
      "                                                                                   precision    recall  f1-score   support\n",
      "\n",
      "                    Mitochondrial genetic inheritance disorders - Cystic fibrosis       0.64      0.74      0.68       418\n",
      "Mitochondrial genetic inheritance disorders - Leber's hereditary optic neuropathy       0.54      0.56      0.55       424\n",
      "                     Mitochondrial genetic inheritance disorders - Leigh syndrome       0.25      0.23      0.24       627\n",
      "             Mitochondrial genetic inheritance disorders - Mitochondrial myopathy       0.26      0.21      0.23       633\n",
      "                          Mitochondrial genetic inheritance disorders - Tay-Sachs       0.63      0.81      0.71       416\n",
      "                          Multifactorial genetic inheritance disorders - Diabetes       0.41      0.36      0.38       642\n",
      "                               Single-gene inheritance diseases - Cystic fibrosis       0.30      0.33      0.32       624\n",
      "                               Single-gene inheritance diseases - Hemochromatosis       0.41      0.34      0.37       428\n",
      "                                Single-gene inheritance diseases - Leigh syndrome       0.26      0.21      0.23       425\n",
      "                                     Single-gene inheritance diseases - Tay-Sachs       0.31      0.38      0.34       613\n",
      "\n",
      "                                                                         accuracy                           0.39      5250\n",
      "                                                                        macro avg       0.40      0.42      0.41      5250\n",
      "                                                                     weighted avg       0.38      0.39      0.38      5250\n",
      "\n"
     ]
    }
   ],
   "source": [
    "mlp = MLPClassifier()\n",
    "mlp.fit(X_train3, y_train3)\n",
    "compute_metrics(y_test3, mlp.predict(X_test3))"
   ]
  },
  {
   "cell_type": "code",
   "execution_count": 76,
   "metadata": {},
   "outputs": [
    {
     "name": "stderr",
     "output_type": "stream",
     "text": [
      "/Users/lucasmarch/opt/anaconda3/lib/python3.8/site-packages/sklearn/utils/validation.py:1134: DataConversionWarning: A column-vector y was passed when a 1d array was expected. Please change the shape of y to (n_samples, ), for example using ravel().\n",
      "  y = column_or_1d(y, warn=True)\n"
     ]
    },
    {
     "name": "stdout",
     "output_type": "stream",
     "text": [
      "[[325   5  23  11   2  23  26   0   2   1]\n",
      " [  6 264   8   1   0 104  39   0   2   0]\n",
      " [  7   5 234 148   6  25 107  11  11  73]\n",
      " [  2   0 196 170  11   7  46  19  13 169]\n",
      " [  2   0   9  18 339   0   1  13   2  32]\n",
      " [ 10  76  42   3   2 325 177   2   1   4]\n",
      " [  7  27 129  30   1 144 271   0   6   9]\n",
      " [  0   0  19  41  29   0   2 157   5 175]\n",
      " [ 11   7  59  34  26  40  51  51  82  64]\n",
      " [  2   0  93 135  14   0  10  97   9 253]]\n",
      "Accuracy: 0.46095238095238095\n",
      "                                                                                   precision    recall  f1-score   support\n",
      "\n",
      "                    Mitochondrial genetic inheritance disorders - Cystic fibrosis       0.87      0.78      0.82       418\n",
      "Mitochondrial genetic inheritance disorders - Leber's hereditary optic neuropathy       0.69      0.62      0.65       424\n",
      "                     Mitochondrial genetic inheritance disorders - Leigh syndrome       0.29      0.37      0.33       627\n",
      "             Mitochondrial genetic inheritance disorders - Mitochondrial myopathy       0.29      0.27      0.28       633\n",
      "                          Mitochondrial genetic inheritance disorders - Tay-Sachs       0.79      0.81      0.80       416\n",
      "                          Multifactorial genetic inheritance disorders - Diabetes       0.49      0.51      0.50       642\n",
      "                               Single-gene inheritance diseases - Cystic fibrosis       0.37      0.43      0.40       624\n",
      "                               Single-gene inheritance diseases - Hemochromatosis       0.45      0.37      0.40       428\n",
      "                                Single-gene inheritance diseases - Leigh syndrome       0.62      0.19      0.29       425\n",
      "                                     Single-gene inheritance diseases - Tay-Sachs       0.32      0.41      0.36       613\n",
      "\n",
      "                                                                         accuracy                           0.46      5250\n",
      "                                                                        macro avg       0.52      0.48      0.48      5250\n",
      "                                                                     weighted avg       0.48      0.46      0.46      5250\n",
      "\n"
     ]
    }
   ],
   "source": [
    "svc = SVC()\n",
    "svc.fit(X_train3, y_train3)\n",
    "compute_metrics(y_test3, svc.predict(X_test3))"
   ]
  }
 ],
 "metadata": {
  "interpreter": {
   "hash": "72c83f0b95900afbea466442831a3ad41b48157d30d70a66ced4ee4a94320d61"
  },
  "kernelspec": {
   "display_name": "Python 3.8.3 ('base')",
   "language": "python",
   "name": "python3"
  },
  "language_info": {
   "codemirror_mode": {
    "name": "ipython",
    "version": 3
   },
   "file_extension": ".py",
   "mimetype": "text/x-python",
   "name": "python",
   "nbconvert_exporter": "python",
   "pygments_lexer": "ipython3",
   "version": "3.8.3"
  },
  "orig_nbformat": 4
 },
 "nbformat": 4,
 "nbformat_minor": 2
}
